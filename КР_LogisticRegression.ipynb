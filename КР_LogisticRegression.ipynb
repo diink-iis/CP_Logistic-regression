{
 "cells": [
  {
   "cell_type": "markdown",
   "id": "80cc4574",
   "metadata": {},
   "source": [
    "# Курсовая работа\n",
    "#### по дисциплине «Структуры и алгоритмы компьютерной обработки данных»\n",
    "#### на тему «Алгоритмы машинного обучения»\n",
    "\n",
    "### Выполнила:\n",
    "студентка 2 курса\n",
    "группы 15.11Д-МО11/20б\n",
    "очной формы обучения\n",
    "**Исаева Диана Фармановна**\n",
    "### Научный руководитель:\n",
    "к.э.н, доцент\n",
    "Базовой кафедры Цифровой экономики\n",
    "Института развития информационного общества\n",
    "**Комлева Нина Викторовна**"
   ]
  },
  {
   "cell_type": "markdown",
   "id": "de55c8ba",
   "metadata": {},
   "source": [
    "# Импорт модулей и библиотек"
   ]
  },
  {
   "cell_type": "code",
   "execution_count": 1,
   "id": "954c9ae1",
   "metadata": {},
   "outputs": [],
   "source": [
    "import numpy as np\n",
    "import pandas as pd\n",
    "import matplotlib.pyplot as plt\n",
    "import seaborn as sns\n",
    "\n",
    "from sklearn.model_selection import train_test_split\n",
    "from sklearn.linear_model import LogisticRegression\n",
    "from sklearn.preprocessing import MinMaxScaler\n",
    "from sklearn.metrics import confusion_matrix, accuracy_score, precision_score, recall_score, f1_score"
   ]
  },
  {
   "cell_type": "markdown",
   "id": "defd09c5",
   "metadata": {},
   "source": [
    "# Алгоритм логистической регрессии"
   ]
  },
  {
   "cell_type": "markdown",
   "id": "685af2ac",
   "metadata": {},
   "source": [
    "Построим график, отображающий работу логистической регрессии"
   ]
  },
  {
   "cell_type": "code",
   "execution_count": 2,
   "id": "4a912b57",
   "metadata": {},
   "outputs": [
    {
     "data": {
      "image/png": "[encoded data removed]",
      "text/plain": [
       "<Figure size 432x288 with 1 Axes>"
      ]
     },
     "metadata": {
      "needs_background": "light"
     },
     "output_type": "display_data"
    }
   ],
   "source": [
    "z = np.linspace(-10, 10, 100)\n",
    "sigma = 1/(1+np.exp(-z))\n",
    "plt.plot(z, sigma)\n",
    "plt.ylim(-0.1, 1.1)\n",
    "plt.xlabel('$z$')\n",
    "plt.title('График логистической функции $\\sigma(z)$')\n",
    "plt.grid()\n",
    "plt.show()"
   ]
  },
  {
   "cell_type": "code",
   "execution_count": 62,
   "id": "5c1edfbf",
   "metadata": {},
   "outputs": [],
   "source": [
    "class LogitRegression():\n",
    "    \n",
    "    def __init__(self, learning_rate=0.1, iterations=1000):\n",
    "        self.learning_rate = learning_rate\n",
    "        self.iterations = iterations\n",
    "\n",
    "    # Function for model training    \n",
    "    def fit(self, data, label):\n",
    "        \n",
    "        \"\"\"Функция обучения модели\n",
    "        \n",
    "        На вход:\n",
    "        X - признаки данных\n",
    "        Y - разметка данных\n",
    "        \"\"\"\n",
    "        \n",
    "        # no_of_training_examples, no_of_features        \n",
    "        self.line, self.col = data.shape\n",
    "        \n",
    "        # weight initialization        \n",
    "        self.W = np.zeros(self.col)\n",
    "        self.b = 0\n",
    "        self.data = data\n",
    "        self.label = label\n",
    "\n",
    "        # gradient descent learning\n",
    "        for i in range(self.iterations):\n",
    "            self.update_weights()\n",
    "        return self\n",
    "\n",
    "    def update_weights(self):\n",
    "        \n",
    "        \"\"\"Вспомогательная функция для обновления весов при градиентном спуске\"\"\"\n",
    "        \n",
    "        A = 1 / (1 + np.exp(- (self.data.dot(self.W) + self.b)))\n",
    "\n",
    "        # calculate gradients        \n",
    "        lbl = (A - self.label.T)\n",
    "        lbl = np.reshape(lbl, self.line)\n",
    "        new_W = np.dot(self.data.T, lbl) / self.line\n",
    "        new_b = np.sum(lbl) / self.line\n",
    "\n",
    "        # update weights    \n",
    "        self.W = self.W - self.learning_rate * new_W\n",
    "        self.b = self.b - self.learning_rate * new_b\n",
    "\n",
    "        return self\n",
    "\n",
    "    def predict(self, data):\n",
    "        \n",
    "        \"\"\"Гипотетическая функция h(x)\"\"\"\n",
    "        \n",
    "        Z = 1 / (1 + np.exp(- (data.dot(self.W) + self.b)))\n",
    "        label = np.where(Z > 0.5, 1, 0)\n",
    "        return label"
   ]
  },
  {
   "cell_type": "markdown",
   "id": "36fe0c5b",
   "metadata": {},
   "source": [
    "# Считываем данные \n",
    "\n",
    "Этот набор данных получен из Национального института диабета, болезней органов пищеварения и почек. Цель набора данных состоит в том, чтобы диагностически предсказать, есть ли у пациента диабет или нет, на основе определенных диагностических измерений, включенных в набор данных. На выбор этих экземпляров из более крупной базы данных было наложено несколько ограничений. В частности, все пациенты здесь - женщины в возрасте не менее 21 года индийского происхождения Пима.\n",
    "\n",
    "Наборы данных состоят из нескольких медицинских переменных-предикторов и одной целевой переменной - результата. Предикторные переменные включают количество беременностей, которые были у пациентки, ее ИМТ, уровень инсулина, возраст и так далее."
   ]
  },
  {
   "cell_type": "code",
   "execution_count": 4,
   "id": "85aba27e",
   "metadata": {},
   "outputs": [],
   "source": [
    "df = pd.read_csv(\"diabetes.csv\")"
   ]
  },
  {
   "cell_type": "markdown",
   "id": "8ed24e32",
   "metadata": {},
   "source": [
    "Посмотрим, нет ли пропущенных значений в данных"
   ]
  },
  {
   "cell_type": "code",
   "execution_count": 5,
   "id": "91345b1b",
   "metadata": {},
   "outputs": [
    {
     "data": {
      "text/plain": [
       "Pregnancies                 0\n",
       "Glucose                     0\n",
       "BloodPressure               0\n",
       "SkinThickness               0\n",
       "Insulin                     0\n",
       "BMI                         0\n",
       "DiabetesPedigreeFunction    0\n",
       "Age                         0\n",
       "Outcome                     0\n",
       "dtype: int64"
      ]
     },
     "execution_count": 5,
     "metadata": {},
     "output_type": "execute_result"
    }
   ],
   "source": [
    "df.isnull().sum()"
   ]
  },
  {
   "cell_type": "markdown",
   "id": "983ab0ec",
   "metadata": {},
   "source": [
    "Посмотрим на гистограммы распределений"
   ]
  },
  {
   "cell_type": "code",
   "execution_count": 6,
   "id": "1b16f0d9",
   "metadata": {},
   "outputs": [
    {
     "data": {
      "image/png": "[encoded data removed]",
      "text/plain": [
       "<Figure size 1440x1440 with 9 Axes>"
      ]
     },
     "metadata": {
      "needs_background": "light"
     },
     "output_type": "display_data"
    }
   ],
   "source": [
    "df.hist(figsize=(20, 20))\n",
    "plt.show()"
   ]
  },
  {
   "cell_type": "markdown",
   "id": "aafa18dc",
   "metadata": {},
   "source": [
    "Посмотрим на типы данных в массиве"
   ]
  },
  {
   "cell_type": "code",
   "execution_count": 7,
   "id": "5d379988",
   "metadata": {},
   "outputs": [
    {
     "data": {
      "text/plain": [
       "Pregnancies                   int64\n",
       "Glucose                       int64\n",
       "BloodPressure                 int64\n",
       "SkinThickness                 int64\n",
       "Insulin                       int64\n",
       "BMI                         float64\n",
       "DiabetesPedigreeFunction    float64\n",
       "Age                           int64\n",
       "Outcome                       int64\n",
       "dtype: object"
      ]
     },
     "execution_count": 7,
     "metadata": {},
     "output_type": "execute_result"
    }
   ],
   "source": [
    "df.dtypes"
   ]
  },
  {
   "cell_type": "markdown",
   "id": "10a807df",
   "metadata": {},
   "source": [
    "Разделим данные следующим образом: в **Х** все признаки, а в **у** разметка"
   ]
  },
  {
   "cell_type": "code",
   "execution_count": 8,
   "id": "b1f25dc3",
   "metadata": {},
   "outputs": [],
   "source": [
    "X = df.iloc[:, :-1]\n",
    "y = df.iloc[:, -1:]"
   ]
  },
  {
   "cell_type": "markdown",
   "id": "89a37c1f",
   "metadata": {},
   "source": [
    "# Предобработка данных"
   ]
  },
  {
   "cell_type": "markdown",
   "id": "218e077a",
   "metadata": {},
   "source": [
    "Так как в данных у нас диапозон значений различный, данные нужно отшкалировать (то есть привести к одному диапозону)"
   ]
  },
  {
   "cell_type": "code",
   "execution_count": 9,
   "id": "a0808eab",
   "metadata": {},
   "outputs": [],
   "source": [
    "scaler = MinMaxScaler(feature_range=(0, 5))"
   ]
  },
  {
   "cell_type": "code",
   "execution_count": 10,
   "id": "ce851241",
   "metadata": {},
   "outputs": [],
   "source": [
    "col_df = list(X.columns)\n",
    "for col in col_df:\n",
    "    X[col] = X[col].astype(float)\n",
    "    X[[col]] = scaler.fit_transform(X[[col]])"
   ]
  },
  {
   "cell_type": "code",
   "execution_count": 11,
   "id": "755cb4e4",
   "metadata": {},
   "outputs": [
    {
     "data": {
      "text/html": [
       "<div>\n",
       "<style scoped>\n",
       "    .dataframe tbody tr th:only-of-type {\n",
       "        vertical-align: middle;\n",
       "    }\n",
       "\n",
       "    .dataframe tbody tr th {\n",
       "        vertical-align: top;\n",
       "    }\n",
       "\n",
       "    .dataframe thead th {\n",
       "        text-align: right;\n",
       "    }\n",
       "</style>\n",
       "<table border=\"1\" class=\"dataframe\">\n",
       "  <thead>\n",
       "    <tr style=\"text-align: right;\">\n",
       "      <th></th>\n",
       "      <th>Pregnancies</th>\n",
       "      <th>Glucose</th>\n",
       "      <th>BloodPressure</th>\n",
       "      <th>SkinThickness</th>\n",
       "      <th>Insulin</th>\n",
       "      <th>BMI</th>\n",
       "      <th>DiabetesPedigreeFunction</th>\n",
       "      <th>Age</th>\n",
       "    </tr>\n",
       "  </thead>\n",
       "  <tbody>\n",
       "    <tr>\n",
       "      <th>0</th>\n",
       "      <td>1.764706</td>\n",
       "      <td>3.718593</td>\n",
       "      <td>2.950820</td>\n",
       "      <td>1.767677</td>\n",
       "      <td>0.000000</td>\n",
       "      <td>2.503726</td>\n",
       "      <td>1.172075</td>\n",
       "      <td>2.416667</td>\n",
       "    </tr>\n",
       "    <tr>\n",
       "      <th>1</th>\n",
       "      <td>0.294118</td>\n",
       "      <td>2.135678</td>\n",
       "      <td>2.704918</td>\n",
       "      <td>1.464646</td>\n",
       "      <td>0.000000</td>\n",
       "      <td>1.982116</td>\n",
       "      <td>0.582835</td>\n",
       "      <td>0.833333</td>\n",
       "    </tr>\n",
       "    <tr>\n",
       "      <th>2</th>\n",
       "      <td>2.352941</td>\n",
       "      <td>4.597990</td>\n",
       "      <td>2.622951</td>\n",
       "      <td>0.000000</td>\n",
       "      <td>0.000000</td>\n",
       "      <td>1.736215</td>\n",
       "      <td>1.268147</td>\n",
       "      <td>0.916667</td>\n",
       "    </tr>\n",
       "    <tr>\n",
       "      <th>3</th>\n",
       "      <td>0.294118</td>\n",
       "      <td>2.236181</td>\n",
       "      <td>2.704918</td>\n",
       "      <td>1.161616</td>\n",
       "      <td>0.555556</td>\n",
       "      <td>2.093890</td>\n",
       "      <td>0.190009</td>\n",
       "      <td>0.000000</td>\n",
       "    </tr>\n",
       "    <tr>\n",
       "      <th>4</th>\n",
       "      <td>0.000000</td>\n",
       "      <td>3.442211</td>\n",
       "      <td>1.639344</td>\n",
       "      <td>1.767677</td>\n",
       "      <td>0.992908</td>\n",
       "      <td>3.211624</td>\n",
       "      <td>4.718190</td>\n",
       "      <td>1.000000</td>\n",
       "    </tr>\n",
       "  </tbody>\n",
       "</table>\n",
       "</div>"
      ],
      "text/plain": [
       "   Pregnancies   Glucose  BloodPressure  SkinThickness   Insulin       BMI  \\\n",
       "0     1.764706  3.718593       2.950820       1.767677  0.000000  2.503726   \n",
       "1     0.294118  2.135678       2.704918       1.464646  0.000000  1.982116   \n",
       "2     2.352941  4.597990       2.622951       0.000000  0.000000  1.736215   \n",
       "3     0.294118  2.236181       2.704918       1.161616  0.555556  2.093890   \n",
       "4     0.000000  3.442211       1.639344       1.767677  0.992908  3.211624   \n",
       "\n",
       "   DiabetesPedigreeFunction       Age  \n",
       "0                  1.172075  2.416667  \n",
       "1                  0.582835  0.833333  \n",
       "2                  1.268147  0.916667  \n",
       "3                  0.190009  0.000000  \n",
       "4                  4.718190  1.000000  "
      ]
     },
     "execution_count": 11,
     "metadata": {},
     "output_type": "execute_result"
    }
   ],
   "source": [
    "X.head()"
   ]
  },
  {
   "cell_type": "markdown",
   "id": "e3394e58",
   "metadata": {},
   "source": [
    "Разделим данные на обучающую и тестовую выборки"
   ]
  },
  {
   "cell_type": "code",
   "execution_count": 12,
   "id": "22771fe0",
   "metadata": {},
   "outputs": [],
   "source": [
    "X_train, X_test, Y_train, Y_test = train_test_split(\n",
    "        X.values, y.values, test_size=0.3, random_state=0)"
   ]
  },
  {
   "cell_type": "code",
   "execution_count": 13,
   "id": "9362a12c",
   "metadata": {},
   "outputs": [
    {
     "name": "stdout",
     "output_type": "stream",
     "text": [
      "(537, 8)\n",
      "(231, 8)\n"
     ]
    }
   ],
   "source": [
    "print(X_train.shape)\n",
    "print(X_test.shape)"
   ]
  },
  {
   "cell_type": "markdown",
   "id": "2ba1a54f",
   "metadata": {},
   "source": [
    "# Обучение моделей"
   ]
  },
  {
   "cell_type": "markdown",
   "id": "f6d2edb6",
   "metadata": {},
   "source": [
    "#### Обучение реализованного мною алгоритма"
   ]
  },
  {
   "cell_type": "code",
   "execution_count": 48,
   "id": "087ce50d",
   "metadata": {},
   "outputs": [
    {
     "data": {
      "text/plain": [
       "<__main__.LogitRegression at 0x216d02b6d00>"
      ]
     },
     "execution_count": 48,
     "metadata": {},
     "output_type": "execute_result"
    }
   ],
   "source": [
    "model = LogitRegression(learning_rate=0.2, iterations=800)\n",
    "model.fit(X_train, Y_train)"
   ]
  },
  {
   "cell_type": "markdown",
   "id": "d2260303",
   "metadata": {},
   "source": [
    "#### Обучение алгоритма из библиотеки scikit-learn"
   ]
  },
  {
   "cell_type": "code",
   "execution_count": 49,
   "id": "9fc6522b",
   "metadata": {},
   "outputs": [
    {
     "name": "stderr",
     "output_type": "stream",
     "text": [
      "C:\\Users\\isaev\\miniconda3\\lib\\site-packages\\sklearn\\utils\\validation.py:993: DataConversionWarning: A column-vector y was passed when a 1d array was expected. Please change the shape of y to (n_samples, ), for example using ravel().\n",
      "  y = column_or_1d(y, warn=True)\n"
     ]
    },
    {
     "data": {
      "text/plain": [
       "LogisticRegression()"
      ]
     },
     "execution_count": 49,
     "metadata": {},
     "output_type": "execute_result"
    }
   ],
   "source": [
    "model_sklearn = LogisticRegression()\n",
    "model_sklearn.fit(X_train, Y_train)"
   ]
  },
  {
   "cell_type": "markdown",
   "id": "4c5deeaf",
   "metadata": {},
   "source": [
    "#### Делаем предсказания"
   ]
  },
  {
   "cell_type": "code",
   "execution_count": 50,
   "id": "0a402cc9",
   "metadata": {},
   "outputs": [],
   "source": [
    "# Prediction on test set\n",
    "Y_pred = model.predict(X_test)\n",
    "Y_pred_sklearn = model_sklearn.predict(X_test)"
   ]
  },
  {
   "cell_type": "markdown",
   "id": "8b4b5a3b",
   "metadata": {},
   "source": [
    "# Сравним работу двух алгоритмов с помощью метрик"
   ]
  },
  {
   "cell_type": "markdown",
   "id": "d1ec4c98",
   "metadata": {},
   "source": [
    "1) Confusion_matrix"
   ]
  },
  {
   "cell_type": "code",
   "execution_count": 51,
   "id": "1f09cf6f",
   "metadata": {},
   "outputs": [
    {
     "data": {
      "text/plain": [
       "Text(0.5, 257.44, 'Predicted label')"
      ]
     },
     "execution_count": 51,
     "metadata": {},
     "output_type": "execute_result"
    },
    {
     "data": {
      "image/png": "[encoded data removed]",
      "text/plain": [
       "<Figure size 432x288 with 2 Axes>"
      ]
     },
     "metadata": {
      "needs_background": "light"
     },
     "output_type": "display_data"
    }
   ],
   "source": [
    "cnf_matrix = confusion_matrix(Y_test, Y_pred)\n",
    "class_names=[0,1] # name  of classes\n",
    "fig, ax = plt.subplots()\n",
    "tick_marks = np.arange(len(class_names))\n",
    "plt.xticks(tick_marks, class_names)\n",
    "plt.yticks(tick_marks, class_names)\n",
    "# create heatmap\n",
    "sns.heatmap(pd.DataFrame(cnf_matrix), annot=True, cmap=\"YlGnBu\" ,fmt='g')\n",
    "ax.xaxis.set_label_position(\"top\")\n",
    "plt.tight_layout()\n",
    "plt.title('Confusion matrix для собственного алгоритма', y=1.1)\n",
    "plt.ylabel('Actual label')\n",
    "plt.xlabel('Predicted label')"
   ]
  },
  {
   "cell_type": "code",
   "execution_count": 52,
   "id": "c8728b99",
   "metadata": {},
   "outputs": [
    {
     "data": {
      "text/plain": [
       "Text(0.5, 257.44, 'Predicted label')"
      ]
     },
     "execution_count": 52,
     "metadata": {},
     "output_type": "execute_result"
    },
    {
     "data": {
      "image/png": "[encoded data removed]",
      "text/plain": [
       "<Figure size 432x288 with 2 Axes>"
      ]
     },
     "metadata": {
      "needs_background": "light"
     },
     "output_type": "display_data"
    }
   ],
   "source": [
    "cnf_matrix = confusion_matrix(Y_test, Y_pred_sklearn)\n",
    "class_names=[0,1] # name  of classes\n",
    "fig, ax = plt.subplots()\n",
    "tick_marks = np.arange(len(class_names))\n",
    "plt.xticks(tick_marks, class_names)\n",
    "plt.yticks(tick_marks, class_names)\n",
    "# create heatmap\n",
    "sns.heatmap(pd.DataFrame(cnf_matrix), annot=True ,fmt='g')\n",
    "ax.xaxis.set_label_position(\"top\")\n",
    "plt.tight_layout()\n",
    "plt.title('Confusion matrix для scikit-learn алгоритма', y=1.1)\n",
    "plt.ylabel('Actual label')\n",
    "plt.xlabel('Predicted label')"
   ]
  },
  {
   "cell_type": "markdown",
   "id": "38bc0c01",
   "metadata": {},
   "source": [
    "2) Accuracy"
   ]
  },
  {
   "cell_type": "code",
   "execution_count": 53,
   "id": "c3d7c8ee",
   "metadata": {},
   "outputs": [
    {
     "name": "stdout",
     "output_type": "stream",
     "text": [
      "Accuracy для собственного алгоритма:  0.7662337662337663\n",
      "Accuracy для scikit-learn алгоритма:  0.7792207792207793\n"
     ]
    }
   ],
   "source": [
    "print(\"Accuracy для собственного алгоритма: \", accuracy_score(Y_test, Y_pred))\n",
    "print(\"Accuracy для scikit-learn алгоритма: \", accuracy_score(Y_test, Y_pred_sklearn))"
   ]
  },
  {
   "cell_type": "markdown",
   "id": "489123cc",
   "metadata": {},
   "source": [
    "3) Precision"
   ]
  },
  {
   "cell_type": "code",
   "execution_count": 54,
   "id": "ada91a67",
   "metadata": {},
   "outputs": [
    {
     "name": "stdout",
     "output_type": "stream",
     "text": [
      "Precision для собственного алгоритма:  0.6724137931034483\n",
      "Precision для scikit-learn алгоритма:  0.7090909090909091\n"
     ]
    }
   ],
   "source": [
    "print(\"Precision для собственного алгоритма: \", precision_score(Y_test, Y_pred))\n",
    "print(\"Precision для scikit-learn алгоритма: \", precision_score(Y_test, Y_pred_sklearn))"
   ]
  },
  {
   "cell_type": "markdown",
   "id": "6afc608d",
   "metadata": {},
   "source": [
    "4) Recall"
   ]
  },
  {
   "cell_type": "code",
   "execution_count": 55,
   "id": "44461818",
   "metadata": {},
   "outputs": [
    {
     "name": "stdout",
     "output_type": "stream",
     "text": [
      "Recall для собственного алгоритма:  0.527027027027027\n",
      "Recall для scikit-learn алгоритма:  0.527027027027027\n"
     ]
    }
   ],
   "source": [
    "print(\"Recall для собственного алгоритма: \", recall_score(Y_test, Y_pred))\n",
    "print(\"Recall для scikit-learn алгоритма: \", recall_score(Y_test, Y_pred_sklearn))"
   ]
  },
  {
   "cell_type": "markdown",
   "id": "ffadfb72",
   "metadata": {},
   "source": [
    "5) F1 мера"
   ]
  },
  {
   "cell_type": "code",
   "execution_count": 56,
   "id": "e17f33d1",
   "metadata": {},
   "outputs": [
    {
     "name": "stdout",
     "output_type": "stream",
     "text": [
      "F1 для собственного алгоритма:  0.5909090909090909\n",
      "F1 для scikit-learn алгоритма:  0.6046511627906976\n"
     ]
    }
   ],
   "source": [
    "print(\"F1 для собственного алгоритма: \", f1_score(Y_test, Y_pred))\n",
    "print(\"F1 для scikit-learn алгоритма: \", f1_score(Y_test, Y_pred_sklearn))"
   ]
  },
  {
   "cell_type": "markdown",
   "id": "61a9c705",
   "metadata": {},
   "source": [
    "Соберем все метрики в одно место"
   ]
  },
  {
   "cell_type": "code",
   "execution_count": 57,
   "id": "99527abc",
   "metadata": {},
   "outputs": [],
   "source": [
    "metrics = {'F1_Score':f1_score, 'Accuracy': accuracy_score, 'Precision': precision_score, 'Recall': recall_score}\n",
    "\n",
    "model_names = ['Mine Logistic Regression', 'Scikit-learn Logistic Regression']\n",
    "\n",
    "compare = pd.DataFrame()"
   ]
  },
  {
   "cell_type": "code",
   "execution_count": 58,
   "id": "9f55479a",
   "metadata": {},
   "outputs": [],
   "source": [
    "def calculate_metrics(y_test, y_pred, metrics={}):\n",
    "    \n",
    "    \"\"\"Функция вычисления метрик\n",
    "    \n",
    "    На вход:\n",
    "    y_test - тестовый набор данных\n",
    "    y_pred - предиктовые значения\n",
    "    \n",
    "    \n",
    "    На выходе: вычисленные метрики\"\"\"\n",
    "    \n",
    "    if len(metrics) == 0:\n",
    "        raise ValueError('metrics are empty')\n",
    "        \n",
    "    results = dict()\n",
    "    for key in metrics:\n",
    "        results[key] = metrics[key](y_test, y_pred)\n",
    "    \n",
    "    return results"
   ]
  },
  {
   "cell_type": "code",
   "execution_count": 59,
   "id": "3ed3e002",
   "metadata": {},
   "outputs": [
    {
     "name": "stderr",
     "output_type": "stream",
     "text": [
      "C:\\Users\\isaev\\AppData\\Local\\Temp\\ipykernel_14964\\526581012.py:2: FutureWarning: The frame.append method is deprecated and will be removed from pandas in a future version. Use pandas.concat instead.\n",
      "  compare = compare.append(results_my_logregr, ignore_index=True)\n"
     ]
    }
   ],
   "source": [
    "results_my_logregr = calculate_metrics(Y_test, Y_pred, metrics=metrics)  \n",
    "compare = compare.append(results_my_logregr, ignore_index=True)"
   ]
  },
  {
   "cell_type": "code",
   "execution_count": 60,
   "id": "fa6d1f73",
   "metadata": {},
   "outputs": [
    {
     "name": "stderr",
     "output_type": "stream",
     "text": [
      "C:\\Users\\isaev\\AppData\\Local\\Temp\\ipykernel_14964\\2611607937.py:2: FutureWarning: The frame.append method is deprecated and will be removed from pandas in a future version. Use pandas.concat instead.\n",
      "  compare = compare.append(results_sklearn_logregr, ignore_index=True)\n"
     ]
    }
   ],
   "source": [
    "results_sklearn_logregr = calculate_metrics(Y_test, Y_pred_sklearn, metrics=metrics)  \n",
    "compare = compare.append(results_sklearn_logregr, ignore_index=True)"
   ]
  },
  {
   "cell_type": "code",
   "execution_count": 61,
   "id": "04e696d4",
   "metadata": {},
   "outputs": [
    {
     "data": {
      "text/html": [
       "<div>\n",
       "<style scoped>\n",
       "    .dataframe tbody tr th:only-of-type {\n",
       "        vertical-align: middle;\n",
       "    }\n",
       "\n",
       "    .dataframe tbody tr th {\n",
       "        vertical-align: top;\n",
       "    }\n",
       "\n",
       "    .dataframe thead th {\n",
       "        text-align: right;\n",
       "    }\n",
       "</style>\n",
       "<table border=\"1\" class=\"dataframe\">\n",
       "  <thead>\n",
       "    <tr style=\"text-align: right;\">\n",
       "      <th></th>\n",
       "      <th>F1_Score</th>\n",
       "      <th>Accuracy</th>\n",
       "      <th>Precision</th>\n",
       "      <th>Recall</th>\n",
       "    </tr>\n",
       "  </thead>\n",
       "  <tbody>\n",
       "    <tr>\n",
       "      <th>Mine Logistic Regression</th>\n",
       "      <td>0.590909</td>\n",
       "      <td>0.766234</td>\n",
       "      <td>0.672414</td>\n",
       "      <td>0.527027</td>\n",
       "    </tr>\n",
       "    <tr>\n",
       "      <th>Scikit-learn Logistic Regression</th>\n",
       "      <td>0.604651</td>\n",
       "      <td>0.779221</td>\n",
       "      <td>0.709091</td>\n",
       "      <td>0.527027</td>\n",
       "    </tr>\n",
       "  </tbody>\n",
       "</table>\n",
       "</div>"
      ],
      "text/plain": [
       "                                  F1_Score  Accuracy  Precision    Recall\n",
       "Mine Logistic Regression          0.590909  0.766234   0.672414  0.527027\n",
       "Scikit-learn Logistic Regression  0.604651  0.779221   0.709091  0.527027"
      ]
     },
     "execution_count": 61,
     "metadata": {},
     "output_type": "execute_result"
    }
   ],
   "source": [
    "compare.index = model_names\n",
    "compare"
   ]
  },
  {
   "cell_type": "markdown",
   "id": "16a959e4",
   "metadata": {},
   "source": [
    "# Вывод\n",
    "Реализованный мною алгоритм практически не отличается от уже реализованного алгоритма из библиотеки для анализа данных scikit-learn."
   ]
  }
 ],
 "metadata": {
  "kernelspec": {
   "display_name": "Python 3 (ipykernel)",
   "language": "python",
   "name": "python3"
  },
  "language_info": {
   "codemirror_mode": {
    "name": "ipython",
    "version": 3
   },
   "file_extension": ".py",
   "mimetype": "text/x-python",
   "name": "python",
   "nbconvert_exporter": "python",
   "pygments_lexer": "ipython3",
   "version": "3.9.12"
  }
 },
 "nbformat": 4,
 "nbformat_minor": 5
}
